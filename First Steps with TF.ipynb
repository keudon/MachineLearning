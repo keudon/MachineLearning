{
 "cells": [
  {
   "cell_type": "markdown",
   "id": "8718cddb",
   "metadata": {},
   "source": [
    "# Basics"
   ]
  },
  {
   "cell_type": "markdown",
   "id": "3f87cc7e",
   "metadata": {},
   "source": [
    "### Task 1 : create a Linear Dataset"
   ]
  },
  {
   "cell_type": "code",
   "execution_count": 1,
   "id": "22106203",
   "metadata": {},
   "outputs": [],
   "source": [
    "import numpy as np"
   ]
  },
  {
   "cell_type": "code",
   "execution_count": 2,
   "id": "80b9d22a",
   "metadata": {},
   "outputs": [
    {
     "name": "stdout",
     "output_type": "stream",
     "text": [
      "[ 6  7  8  9 10 11 12 13 14 15 16 17 18 19 20]\n"
     ]
    }
   ],
   "source": [
    "feature=np.arange(6,21)\n",
    "print(feature)"
   ]
  },
  {
   "cell_type": "code",
   "execution_count": 3,
   "id": "896a1aaf",
   "metadata": {},
   "outputs": [
    {
     "name": "stdout",
     "output_type": "stream",
     "text": [
      "[22 25 28 31 34 37 40 43 46 49 52 55 58 61 64]\n"
     ]
    }
   ],
   "source": [
    "label=feature*3+4\n",
    "print(label)"
   ]
  },
  {
   "cell_type": "markdown",
   "id": "b58839bc",
   "metadata": {},
   "source": [
    "### Task 2 : Add some noise to the Dataset"
   ]
  },
  {
   "cell_type": "code",
   "execution_count": 4,
   "id": "bd305396",
   "metadata": {},
   "outputs": [
    {
     "name": "stdout",
     "output_type": "stream",
     "text": [
      "[-0.99996125  0.98513045 -1.46563354 -1.0109619   0.1267497  -0.63436629\n",
      " -1.36083684 -1.59727189  1.57177026 -1.2684053   1.48615404 -1.62370501\n",
      "  0.9805979   0.19308436 -1.57394429]\n"
     ]
    }
   ],
   "source": [
    "noise=2*(2*np.random.random(label.size)-1)\n",
    "print(noise)"
   ]
  },
  {
   "cell_type": "code",
   "execution_count": 5,
   "id": "11aea0b2",
   "metadata": {},
   "outputs": [],
   "source": [
    "label=feature*3+4+noise"
   ]
  },
  {
   "cell_type": "code",
   "execution_count": 6,
   "id": "c6c87dd9",
   "metadata": {},
   "outputs": [
    {
     "name": "stdout",
     "output_type": "stream",
     "text": [
      "[21.00003875 25.98513045 26.53436646 29.9890381  34.1267497  36.36563371\n",
      " 38.63916316 41.40272811 47.57177026 47.7315947  53.48615404 53.37629499\n",
      " 58.9805979  61.19308436 62.42605571]\n"
     ]
    }
   ],
   "source": [
    "print(label)"
   ]
  },
  {
   "cell_type": "markdown",
   "id": "7bb305d7",
   "metadata": {},
   "source": [
    "# Linear Regression with Synthetic Data"
   ]
  },
  {
   "cell_type": "code",
   "execution_count": 7,
   "id": "049ec926",
   "metadata": {},
   "outputs": [],
   "source": [
    "import tensorflow as tf"
   ]
  },
  {
   "cell_type": "code",
   "execution_count": 8,
   "id": "75fd9dd2",
   "metadata": {},
   "outputs": [],
   "source": [
    "import pandas as pd"
   ]
  },
  {
   "cell_type": "code",
   "execution_count": 9,
   "id": "f887b5af",
   "metadata": {},
   "outputs": [],
   "source": [
    "from matplotlib import pyplot as plt"
   ]
  },
  {
   "cell_type": "markdown",
   "id": "0f9d29e0",
   "metadata": {},
   "source": [
    "### Functions definition :\n",
    "`build_model(the_learning_rate)` build an empty model\n",
    "\n",
    "`train_model(model, feature, label, epoch)` train the model with examples (features and label)"
   ]
  },
  {
   "cell_type": "code",
   "execution_count": 21,
   "id": "aaddd66a",
   "metadata": {},
   "outputs": [
    {
     "name": "stdout",
     "output_type": "stream",
     "text": [
      "Defined build_model and train_model\n"
     ]
    }
   ],
   "source": [
    "#@title Define the functions that build and train a model\n",
    "def build_model(the_learning_rate):\n",
    "  \"\"\"Create and compile a simple linear regression model.\"\"\"\n",
    "  # Most simple tf.keras models are sequential. \n",
    "  # A sequential model contains one or more layers.\n",
    "  model = tf.keras.models.Sequential()\n",
    "\n",
    "  # Describe the topography of the model.\n",
    "  # The topography of a simple linear regression model\n",
    "  # is a single node in a single layer. \n",
    "  model.add(tf.keras.layers.Dense(units=1, \n",
    "                                  input_shape=(1,)))\n",
    "\n",
    "  # Compile the model topography into code that \n",
    "  # TensorFlow can efficiently execute. Configure \n",
    "  # training to minimize the model's mean squared error. \n",
    "  model.compile(optimizer=tf.keras.optimizers.RMSprop(lr=the_learning_rate),\n",
    "                loss=\"mean_squared_error\",\n",
    "                metrics=[tf.keras.metrics.RootMeanSquaredError()])\n",
    "\n",
    "  return model           \n",
    "\n",
    "\n",
    "def train_model(model, feature, label, epochs, batch_size):\n",
    "  \"\"\"Train the model by feeding it data.\"\"\"\n",
    "\n",
    "  # Feed the feature values and the label values to the \n",
    "  # model. The model will train for the specified number \n",
    "  # of epochs, gradually learning how the feature values\n",
    "  # relate to the label values. \n",
    "  history = model.fit(x=feature,\n",
    "                      y=label,\n",
    "                      batch_size=batch_size,\n",
    "                      epochs=epochs)\n",
    "\n",
    "  # Gather the trained model's weight and bias.\n",
    "  trained_weight = model.get_weights()[0]\n",
    "  trained_bias = model.get_weights()[1]\n",
    "\n",
    "  # The list of epochs is stored separately from the \n",
    "  # rest of history.\n",
    "  epochs = history.epoch\n",
    "  \n",
    "  # Gather the history (a snapshot) of each epoch.\n",
    "  hist = pd.DataFrame(history.history)\n",
    "\n",
    "  # Specifically gather the model's root mean \n",
    "  #squared error at each epoch. \n",
    "  rmse = hist[\"root_mean_squared_error\"]\n",
    "\n",
    "  return trained_weight, trained_bias, epochs, rmse\n",
    "\n",
    "print(\"Defined build_model and train_model\")"
   ]
  },
  {
   "cell_type": "markdown",
   "id": "1dce8deb",
   "metadata": {},
   "source": [
    "### Plotting functions definitions"
   ]
  },
  {
   "cell_type": "code",
   "execution_count": 23,
   "id": "52c50c00",
   "metadata": {},
   "outputs": [
    {
     "name": "stdout",
     "output_type": "stream",
     "text": [
      "Defined the plot_the_model and plot_the_loss_curve functions.\n"
     ]
    }
   ],
   "source": [
    "#@title Define the plotting functions\n",
    "def plot_the_model(trained_weight, trained_bias, feature, label):\n",
    "  \"\"\"Plot the trained model against the training feature and label.\"\"\"\n",
    "\n",
    "  # Label the axes.\n",
    "  plt.xlabel(\"feature\")\n",
    "  plt.ylabel(\"label\")\n",
    "\n",
    "  # Plot the feature values vs. label values.\n",
    "  plt.scatter(feature, label)\n",
    "\n",
    "  # Create a red line representing the model. The red line starts\n",
    "  # at coordinates (x0, y0) and ends at coordinates (x1, y1).\n",
    "  x0 = 0\n",
    "  y0 = trained_bias\n",
    "  x1 = my_feature[-1]\n",
    "  y1 = trained_bias + (trained_weight * x1)\n",
    "  plt.plot([x0, x1], [y0, y1], c='r')\n",
    "\n",
    "  # Render the scatter plot and the red line.\n",
    "  plt.show()\n",
    "\n",
    "def plot_the_loss_curve(epochs, rmse):\n",
    "  \"\"\"Plot the loss curve, which shows loss vs. epoch.\"\"\"\n",
    "\n",
    "  plt.figure()\n",
    "  plt.xlabel(\"Epoch\")\n",
    "  plt.ylabel(\"Root Mean Squared Error\")\n",
    "\n",
    "  plt.plot(epochs, rmse, label=\"Loss\")\n",
    "  plt.legend()\n",
    "  plt.ylim([rmse.min()*0.97, rmse.max()])\n",
    "  plt.show()\n",
    "\n",
    "print(\"Defined the plot_the_model and plot_the_loss_curve functions.\")"
   ]
  },
  {
   "cell_type": "markdown",
   "id": "e3a0cfc6",
   "metadata": {},
   "source": [
    "### Defining dataset"
   ]
  },
  {
   "cell_type": "code",
   "execution_count": 28,
   "id": "77d498de",
   "metadata": {},
   "outputs": [],
   "source": [
    "my_feature = [1.0, 2.0,  3.0,  4.0,  5.0,  6.0,  7.0,  8.0,  9.0, 10.0, 11.0, 12.0]\n",
    "my_label   = [5.0, 8.8,  9.6, 14.2, 18.8, 19.5, 21.4, 26.8, 28.9, 32.0, 33.8, 38.2]"
   ]
  },
  {
   "cell_type": "markdown",
   "id": "a29e6add",
   "metadata": {},
   "source": [
    "### Specify hyperparameters, Build, Train and Plot"
   ]
  },
  {
   "cell_type": "code",
   "execution_count": 33,
   "id": "b3b73b2b",
   "metadata": {},
   "outputs": [
    {
     "name": "stdout",
     "output_type": "stream",
     "text": [
      "Epoch 1/6\n",
      "2/2 [==============================] - 0s 7ms/step - loss: 836.3609 - root_mean_squared_error: 28.9199\n",
      "Epoch 2/6\n",
      "2/2 [==============================] - 0s 0s/step - loss: 9.5524 - root_mean_squared_error: 3.0907\n",
      "Epoch 3/6\n",
      "2/2 [==============================] - 0s 3ms/step - loss: 1.5872 - root_mean_squared_error: 1.2598\n",
      "Epoch 4/6\n",
      "2/2 [==============================] - 0s 3ms/step - loss: 1.5221 - root_mean_squared_error: 1.2337\n",
      "Epoch 5/6\n",
      "2/2 [==============================] - 0s 3ms/step - loss: 1.5005 - root_mean_squared_error: 1.2249\n",
      "Epoch 6/6\n",
      "2/2 [==============================] - 0s 3ms/step - loss: 1.5305 - root_mean_squared_error: 1.2372\n"
     ]
    },
    {
     "name": "stderr",
     "output_type": "stream",
     "text": [
      "C:\\Users\\Antoine\\Documents\\miniconda3\\envs\\google_ml\\lib\\site-packages\\numpy\\core\\_asarray.py:171: VisibleDeprecationWarning: Creating an ndarray from ragged nested sequences (which is a list-or-tuple of lists-or-tuples-or ndarrays with different lengths or shapes) is deprecated. If you meant to do this, you must specify 'dtype=object' when creating the ndarray.\n",
      "  return array(a, dtype, copy=False, order=order, subok=True)\n"
     ]
    },
    {
     "data": {
      "image/png": "[encoded data removed]",
      "text/plain": [
       "<Figure size 432x288 with 1 Axes>"
      ]
     },
     "metadata": {
      "needs_background": "light"
     },
     "output_type": "display_data"
    },
    {
     "data": {
      "image/png": "[encoded data removed]",
      "text/plain": [
       "<Figure size 432x288 with 1 Axes>"
      ]
     },
     "metadata": {
      "needs_background": "light"
     },
     "output_type": "display_data"
    }
   ],
   "source": [
    "learning_rate=1.0\n",
    "epochs=6\n",
    "my_batch_size=8\n",
    "\n",
    "my_model = build_model(learning_rate)\n",
    "trained_weight, trained_bias, epochs, rmse = train_model(my_model, my_feature, \n",
    "                                                         my_label, epochs,\n",
    "                                                         my_batch_size)\n",
    "plot_the_model(trained_weight, trained_bias, my_feature, my_label)\n",
    "plot_the_loss_curve(epochs, rmse)"
   ]
  },
  {
   "cell_type": "code",
   "execution_count": null,
   "id": "292cb7f8",
   "metadata": {},
   "outputs": [],
   "source": []
  }
 ],
 "metadata": {
  "kernelspec": {
   "display_name": "Python 3",
   "language": "python",
   "name": "python3"
  },
  "language_info": {
   "codemirror_mode": {
    "name": "ipython",
    "version": 3
   },
   "file_extension": ".py",
   "mimetype": "text/x-python",
   "name": "python",
   "nbconvert_exporter": "python",
   "pygments_lexer": "ipython3",
   "version": "3.8.8"
  }
 },
 "nbformat": 4,
 "nbformat_minor": 5
}
