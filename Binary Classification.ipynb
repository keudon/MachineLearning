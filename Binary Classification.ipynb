{
 "cells": [
  {
   "cell_type": "code",
   "execution_count": 30,
   "id": "0f58a3b9",
   "metadata": {},
   "outputs": [
    {
     "name": "stdout",
     "output_type": "stream",
     "text": [
      "Ran the import statements.\n"
     ]
    }
   ],
   "source": [
    "# from __future__ import absolute_import, division, print_function, unicode_literals\n",
    "\n",
    "import numpy as np\n",
    "import pandas as pd\n",
    "import tensorflow as tf\n",
    "from tensorflow import feature_column\n",
    "from tensorflow.keras import layers\n",
    "from matplotlib import pyplot as plt\n",
    "\n",
    "# The following lines adjust the granularity of reporting.\n",
    "pd.options.display.max_rows = 10\n",
    "pd.options.display.float_format = \"{:.1f}\".format\n",
    "# tf.keras.backend.set_floatx('float32')\n",
    "\n",
    "print(\"Ran the import statements.\")"
   ]
  },
  {
   "cell_type": "code",
   "execution_count": 31,
   "id": "e82fe64b",
   "metadata": {},
   "outputs": [],
   "source": [
    "train_df = pd.read_csv(\"https://download.mlcc.google.com/mledu-datasets/california_housing_train.csv\")\n",
    "test_df = pd.read_csv(\"https://download.mlcc.google.com/mledu-datasets/california_housing_test.csv\")\n",
    "train_df = train_df.reindex(np.random.permutation(train_df.index)) # shuffle the training set"
   ]
  },
  {
   "cell_type": "code",
   "execution_count": 32,
   "id": "dcf4e4db",
   "metadata": {},
   "outputs": [
    {
     "data": {
      "text/html": [
       "<div>\n",
       "<style scoped>\n",
       "    .dataframe tbody tr th:only-of-type {\n",
       "        vertical-align: middle;\n",
       "    }\n",
       "\n",
       "    .dataframe tbody tr th {\n",
       "        vertical-align: top;\n",
       "    }\n",
       "\n",
       "    .dataframe thead th {\n",
       "        text-align: right;\n",
       "    }\n",
       "</style>\n",
       "<table border=\"1\" class=\"dataframe\">\n",
       "  <thead>\n",
       "    <tr style=\"text-align: right;\">\n",
       "      <th></th>\n",
       "      <th>longitude</th>\n",
       "      <th>latitude</th>\n",
       "      <th>housing_median_age</th>\n",
       "      <th>total_rooms</th>\n",
       "      <th>total_bedrooms</th>\n",
       "      <th>population</th>\n",
       "      <th>households</th>\n",
       "      <th>median_income</th>\n",
       "      <th>median_house_value</th>\n",
       "    </tr>\n",
       "  </thead>\n",
       "  <tbody>\n",
       "    <tr>\n",
       "      <th>3054</th>\n",
       "      <td>0.9</td>\n",
       "      <td>0.0</td>\n",
       "      <td>-0.8</td>\n",
       "      <td>-0.7</td>\n",
       "      <td>-0.6</td>\n",
       "      <td>-0.7</td>\n",
       "      <td>-0.6</td>\n",
       "      <td>-1.0</td>\n",
       "      <td>-1.3</td>\n",
       "    </tr>\n",
       "    <tr>\n",
       "      <th>6403</th>\n",
       "      <td>0.6</td>\n",
       "      <td>-0.8</td>\n",
       "      <td>0.8</td>\n",
       "      <td>-0.5</td>\n",
       "      <td>-0.4</td>\n",
       "      <td>-0.2</td>\n",
       "      <td>-0.4</td>\n",
       "      <td>-1.1</td>\n",
       "      <td>-0.9</td>\n",
       "    </tr>\n",
       "    <tr>\n",
       "      <th>12323</th>\n",
       "      <td>-1.0</td>\n",
       "      <td>1.4</td>\n",
       "      <td>0.6</td>\n",
       "      <td>-0.9</td>\n",
       "      <td>-0.9</td>\n",
       "      <td>-0.9</td>\n",
       "      <td>-0.9</td>\n",
       "      <td>-0.9</td>\n",
       "      <td>-1.0</td>\n",
       "    </tr>\n",
       "    <tr>\n",
       "      <th>6263</th>\n",
       "      <td>0.7</td>\n",
       "      <td>-0.7</td>\n",
       "      <td>1.9</td>\n",
       "      <td>0.2</td>\n",
       "      <td>0.5</td>\n",
       "      <td>0.3</td>\n",
       "      <td>0.5</td>\n",
       "      <td>-0.4</td>\n",
       "      <td>-0.2</td>\n",
       "    </tr>\n",
       "    <tr>\n",
       "      <th>3360</th>\n",
       "      <td>0.8</td>\n",
       "      <td>-0.8</td>\n",
       "      <td>-0.9</td>\n",
       "      <td>1.6</td>\n",
       "      <td>0.8</td>\n",
       "      <td>1.2</td>\n",
       "      <td>0.9</td>\n",
       "      <td>2.0</td>\n",
       "      <td>0.9</td>\n",
       "    </tr>\n",
       "  </tbody>\n",
       "</table>\n",
       "</div>"
      ],
      "text/plain": [
       "       longitude  latitude  housing_median_age  total_rooms  total_bedrooms  \\\n",
       "3054         0.9       0.0                -0.8         -0.7            -0.6   \n",
       "6403         0.6      -0.8                 0.8         -0.5            -0.4   \n",
       "12323       -1.0       1.4                 0.6         -0.9            -0.9   \n",
       "6263         0.7      -0.7                 1.9          0.2             0.5   \n",
       "3360         0.8      -0.8                -0.9          1.6             0.8   \n",
       "\n",
       "       population  households  median_income  median_house_value  \n",
       "3054         -0.7        -0.6           -1.0                -1.3  \n",
       "6403         -0.2        -0.4           -1.1                -0.9  \n",
       "12323        -0.9        -0.9           -0.9                -1.0  \n",
       "6263          0.3         0.5           -0.4                -0.2  \n",
       "3360          1.2         0.9            2.0                 0.9  "
      ]
     },
     "execution_count": 32,
     "metadata": {},
     "output_type": "execute_result"
    }
   ],
   "source": [
    "# Calculate the Z-scores of each column in the training set and\n",
    "# write those Z-scores into a new pandas DataFrame named train_df_norm.\n",
    "train_df_mean = train_df.mean()\n",
    "train_df_std = train_df.std()\n",
    "train_df_norm = (train_df - train_df_mean)/train_df_std\n",
    "\n",
    "# Examine some of the values of the normalized training set. Notice that most \n",
    "# Z-scores fall between -2 and +2.\n",
    "train_df_norm.head()"
   ]
  },
  {
   "cell_type": "code",
   "execution_count": 33,
   "id": "03f96187",
   "metadata": {},
   "outputs": [],
   "source": [
    "# Calculate the Z-scores of each column in the test set and\n",
    "# write those Z-scores into a new pandas DataFrame named test_df_norm.\n",
    "test_df_mean = test_df.mean()\n",
    "test_df_std  = test_df.std()\n",
    "test_df_norm = (test_df - test_df_mean)/test_df_std"
   ]
  },
  {
   "cell_type": "code",
   "execution_count": 34,
   "id": "d22f736f",
   "metadata": {},
   "outputs": [
    {
     "data": {
      "text/plain": [
       "3054    0.0\n",
       "6403    0.0\n",
       "12323   0.0\n",
       "6263    0.0\n",
       "3360    0.0\n",
       "         ..\n",
       "11312   0.0\n",
       "7890    0.0\n",
       "11668   0.0\n",
       "12847   0.0\n",
       "16266   0.0\n",
       "Name: median_house_value_is_high, Length: 8000, dtype: float64"
      ]
     },
     "execution_count": 34,
     "metadata": {},
     "output_type": "execute_result"
    }
   ],
   "source": [
    "threshold = 265000 # This is the 75th percentile for median house values.\n",
    "train_df_norm[\"median_house_value_is_high\"] = (train_df_norm[\"median_house_value\"] > threshold).astype(float)\n",
    "test_df_norm[\"median_house_value_is_high\"] = (test_df_norm[\"median_house_value\"] > threshold).astype(float)\n",
    "\n",
    "# Print out a few example cells from the beginning and \n",
    "# middle of the training set, just to make sure that\n",
    "# your code created only 0s and 1s in the newly created\n",
    "# median_house_value_is_high column\n",
    "train_df_norm[\"median_house_value_is_high\"].head(8000)"
   ]
  },
  {
   "cell_type": "code",
   "execution_count": 35,
   "id": "9d233a6b",
   "metadata": {},
   "outputs": [
    {
     "data": {
      "text/plain": [
       "<tf.Tensor: shape=(17000, 2), dtype=float32, numpy=\n",
       "array([[-1.0403644 , -0.6971107 ],\n",
       "       [-1.1355872 , -0.5053629 ],\n",
       "       [-0.88068146, -0.93152004],\n",
       "       ...,\n",
       "       [-0.42170444, -0.10948174],\n",
       "       [ 0.40045032, -0.27278847],\n",
       "       [-1.1934441 , -0.13379426]], dtype=float32)>"
      ]
     },
     "execution_count": 35,
     "metadata": {},
     "output_type": "execute_result"
    }
   ],
   "source": [
    "# Create an empty list that will eventually hold all created feature columns.\n",
    "feature_columns = []\n",
    "\n",
    "# Create a numerical feature column to represent median_income.\n",
    "median_income = tf.feature_column.numeric_column(\"median_income\")\n",
    "feature_columns.append(median_income)\n",
    "\n",
    "# Create a numerical feature column to represent total_rooms.\n",
    "tr = tf.feature_column.numeric_column(\"total_rooms\")\n",
    "feature_columns.append(tr)\n",
    "\n",
    "# Convert the list of feature columns into a layer that will later be fed into\n",
    "# the model. \n",
    "feature_layer = layers.DenseFeatures(feature_columns)\n",
    "\n",
    "# Print the first 3 and last 3 rows of the feature_layer's output when applied\n",
    "# to train_df_norm:\n",
    "feature_layer(dict(train_df_norm))"
   ]
  },
  {
   "cell_type": "code",
   "execution_count": 36,
   "id": "3190b806",
   "metadata": {},
   "outputs": [
    {
     "name": "stdout",
     "output_type": "stream",
     "text": [
      "Defined the create_model and train_model functions.\n"
     ]
    }
   ],
   "source": [
    "#@title Define the functions that create and train a model.\n",
    "def create_model(my_learning_rate, feature_layer, my_metrics):\n",
    "  \"\"\"Create and compile a simple classification model.\"\"\"\n",
    "  # Most simple tf.keras models are sequential.\n",
    "  model = tf.keras.models.Sequential()\n",
    "\n",
    "  # Add the feature layer (the list of features and how they are represented)\n",
    "  # to the model.\n",
    "  model.add(feature_layer)\n",
    "\n",
    "  # Funnel the regression value through a sigmoid function.\n",
    "  model.add(tf.keras.layers.Dense(units=1, input_shape=(1,),\n",
    "                                  activation=tf.sigmoid),)\n",
    "\n",
    "  # Call the compile method to construct the layers into a model that\n",
    "  # TensorFlow can execute.  Notice that we're using a different loss\n",
    "  # function for classification than for regression.    \n",
    "  model.compile(optimizer=tf.keras.optimizers.RMSprop(lr=my_learning_rate),                                                   \n",
    "                loss=tf.keras.losses.BinaryCrossentropy(),\n",
    "                metrics=my_metrics)\n",
    "\n",
    "  return model        \n",
    "\n",
    "\n",
    "def train_model(model, dataset, epochs, label_name,\n",
    "                batch_size=None, shuffle=True):\n",
    "  \"\"\"Feed a dataset into the model in order to train it.\"\"\"\n",
    "\n",
    "  # The x parameter of tf.keras.Model.fit can be a list of arrays, where\n",
    "  # each array contains the data for one feature.  Here, we're passing\n",
    "  # every column in the dataset. Note that the feature_layer will filter\n",
    "  # away most of those columns, leaving only the desired columns and their\n",
    "  # representations as features.\n",
    "  features = {name:np.array(value) for name, value in dataset.items()}\n",
    "  label = np.array(features.pop(label_name)) \n",
    "  history = model.fit(x=features, y=label, batch_size=batch_size,\n",
    "                      epochs=epochs, shuffle=shuffle)\n",
    "  \n",
    "  # The list of epochs is stored separately from the rest of history.\n",
    "  epochs = history.epoch\n",
    "\n",
    "  # Isolate the classification metric for each epoch.\n",
    "  hist = pd.DataFrame(history.history)\n",
    "\n",
    "  return epochs, hist  \n",
    "\n",
    "print(\"Defined the create_model and train_model functions.\")   "
   ]
  },
  {
   "cell_type": "code",
   "execution_count": 37,
   "id": "4491da1a",
   "metadata": {},
   "outputs": [
    {
     "name": "stdout",
     "output_type": "stream",
     "text": [
      "Defined the plot_curve function.\n"
     ]
    }
   ],
   "source": [
    "#@title Define the plotting function.\n",
    "def plot_curve(epochs, hist, list_of_metrics):\n",
    "  \"\"\"Plot a curve of one or more classification metrics vs. epoch.\"\"\"  \n",
    "  # list_of_metrics should be one of the names shown in:\n",
    "  # https://www.tensorflow.org/tutorials/structured_data/imbalanced_data#define_the_model_and_metrics  \n",
    "\n",
    "  plt.figure()\n",
    "  plt.xlabel(\"Epoch\")\n",
    "  plt.ylabel(\"Value\")\n",
    "\n",
    "  for m in list_of_metrics:\n",
    "    x = hist[m]\n",
    "    plt.plot(epochs[1:], x[1:], label=m)\n",
    "\n",
    "  plt.legend()\n",
    "\n",
    "print(\"Defined the plot_curve function.\")"
   ]
  },
  {
   "cell_type": "code",
   "execution_count": 43,
   "id": "abc429af",
   "metadata": {},
   "outputs": [
    {
     "name": "stdout",
     "output_type": "stream",
     "text": [
      "Epoch 1/20\n",
      "WARNING:tensorflow:Layers in a Sequential model should only have a single input tensor, but we receive a <class 'dict'> input: {'longitude': <tf.Tensor 'ExpandDims_3:0' shape=(100, 1) dtype=float32>, 'latitude': <tf.Tensor 'ExpandDims_2:0' shape=(100, 1) dtype=float32>, 'housing_median_age': <tf.Tensor 'ExpandDims_1:0' shape=(100, 1) dtype=float32>, 'total_rooms': <tf.Tensor 'ExpandDims_8:0' shape=(100, 1) dtype=float32>, 'total_bedrooms': <tf.Tensor 'ExpandDims_7:0' shape=(100, 1) dtype=float32>, 'population': <tf.Tensor 'ExpandDims_6:0' shape=(100, 1) dtype=float32>, 'households': <tf.Tensor 'ExpandDims:0' shape=(100, 1) dtype=float32>, 'median_income': <tf.Tensor 'ExpandDims_5:0' shape=(100, 1) dtype=float32>, 'median_house_value': <tf.Tensor 'ExpandDims_4:0' shape=(100, 1) dtype=float32>}\n",
      "Consider rewriting this model with the Functional API.\n",
      "WARNING:tensorflow:Layers in a Sequential model should only have a single input tensor, but we receive a <class 'dict'> input: {'longitude': <tf.Tensor 'ExpandDims_3:0' shape=(100, 1) dtype=float32>, 'latitude': <tf.Tensor 'ExpandDims_2:0' shape=(100, 1) dtype=float32>, 'housing_median_age': <tf.Tensor 'ExpandDims_1:0' shape=(100, 1) dtype=float32>, 'total_rooms': <tf.Tensor 'ExpandDims_8:0' shape=(100, 1) dtype=float32>, 'total_bedrooms': <tf.Tensor 'ExpandDims_7:0' shape=(100, 1) dtype=float32>, 'population': <tf.Tensor 'ExpandDims_6:0' shape=(100, 1) dtype=float32>, 'households': <tf.Tensor 'ExpandDims:0' shape=(100, 1) dtype=float32>, 'median_income': <tf.Tensor 'ExpandDims_5:0' shape=(100, 1) dtype=float32>, 'median_house_value': <tf.Tensor 'ExpandDims_4:0' shape=(100, 1) dtype=float32>}\n",
      "Consider rewriting this model with the Functional API.\n",
      "170/170 [==============================] - 0s 2ms/step - loss: 0.6759 - accuracy: 0.7211\n",
      "Epoch 2/20\n",
      "170/170 [==============================] - 0s 2ms/step - loss: 0.5852 - accuracy: 0.8690\n",
      "Epoch 3/20\n",
      "170/170 [==============================] - 0s 2ms/step - loss: 0.5067 - accuracy: 0.9668\n",
      "Epoch 4/20\n",
      "170/170 [==============================] - 0s 1ms/step - loss: 0.4393 - accuracy: 0.9974: 0s - loss: 0.4471 - accuracy: 0.\n",
      "Epoch 5/20\n",
      "170/170 [==============================] - 0s 1ms/step - loss: 0.3813 - accuracy: 1.0000\n",
      "Epoch 6/20\n",
      "170/170 [==============================] - 0s 1ms/step - loss: 0.3305 - accuracy: 1.0000\n",
      "Epoch 7/20\n",
      "170/170 [==============================] - 0s 1ms/step - loss: 0.2858 - accuracy: 1.0000\n",
      "Epoch 8/20\n",
      "170/170 [==============================] - 0s 1ms/step - loss: 0.2464 - accuracy: 1.0000\n",
      "Epoch 9/20\n",
      "170/170 [==============================] - 0s 1ms/step - loss: 0.2119 - accuracy: 1.0000\n",
      "Epoch 10/20\n",
      "170/170 [==============================] - 0s 1ms/step - loss: 0.1818 - accuracy: 1.0000\n",
      "Epoch 11/20\n",
      "170/170 [==============================] - 0s 1ms/step - loss: 0.1556 - accuracy: 1.0000: 0s - loss: 0.1624 - accuracy: \n",
      "Epoch 12/20\n",
      "170/170 [==============================] - 0s 1ms/step - loss: 0.1330 - accuracy: 1.0000\n",
      "Epoch 13/20\n",
      "170/170 [==============================] - 0s 1ms/step - loss: 0.1135 - accuracy: 1.0000\n",
      "Epoch 14/20\n",
      "170/170 [==============================] - 0s 1ms/step - loss: 0.0967 - accuracy: 1.0000\n",
      "Epoch 15/20\n",
      "170/170 [==============================] - 0s 1ms/step - loss: 0.0823 - accuracy: 1.0000\n",
      "Epoch 16/20\n",
      "170/170 [==============================] - 0s 1ms/step - loss: 0.0700 - accuracy: 1.0000\n",
      "Epoch 17/20\n",
      "170/170 [==============================] - 0s 1ms/step - loss: 0.0594 - accuracy: 1.0000\n",
      "Epoch 18/20\n",
      "170/170 [==============================] - 0s 1ms/step - loss: 0.0504 - accuracy: 1.0000: 0s - loss: 0.0529 - accuracy: \n",
      "Epoch 19/20\n",
      "170/170 [==============================] - 0s 1ms/step - loss: 0.0428 - accuracy: 1.0000\n",
      "Epoch 20/20\n",
      "170/170 [==============================] - 0s 1ms/step - loss: 0.0363 - accuracy: 1.0000: 0s - loss: 0.0378 - accuracy: 1.\n"
     ]
    },
    {
     "data": {
      "image/png": "[encoded data removed]",
      "text/plain": [
       "<Figure size 432x288 with 1 Axes>"
      ]
     },
     "metadata": {
      "needs_background": "light"
     },
     "output_type": "display_data"
    }
   ],
   "source": [
    "# The following variables are the hyperparameters.\n",
    "learning_rate = 0.001\n",
    "epochs = 20\n",
    "batch_size = 100\n",
    "label_name = \"median_house_value_is_high\"\n",
    "classification_threshold = 0.52\n",
    "\n",
    "# Establish the metrics the model will measure.\n",
    "METRICS = [\n",
    "           tf.keras.metrics.BinaryAccuracy(name='accuracy', \n",
    "                                           threshold=classification_threshold),\n",
    "          ]\n",
    "\n",
    "# Establish the model's topography.\n",
    "my_model = create_model(learning_rate, feature_layer, METRICS)\n",
    "\n",
    "# Train the model on the training set.\n",
    "epochs, hist = train_model(my_model, train_df_norm, epochs, \n",
    "                           label_name, batch_size)\n",
    "\n",
    "# Plot a graph of the metric(s) vs. epochs.\n",
    "list_of_metrics_to_plot = ['accuracy'] \n",
    "\n",
    "plot_curve(epochs, hist, list_of_metrics_to_plot)"
   ]
  },
  {
   "cell_type": "code",
   "execution_count": 44,
   "id": "5f7a31a8",
   "metadata": {},
   "outputs": [
    {
     "name": "stdout",
     "output_type": "stream",
     "text": [
      "WARNING:tensorflow:Layers in a Sequential model should only have a single input tensor, but we receive a <class 'dict'> input: {'longitude': <tf.Tensor 'ExpandDims_3:0' shape=(100, 1) dtype=float32>, 'latitude': <tf.Tensor 'ExpandDims_2:0' shape=(100, 1) dtype=float32>, 'housing_median_age': <tf.Tensor 'ExpandDims_1:0' shape=(100, 1) dtype=float32>, 'total_rooms': <tf.Tensor 'ExpandDims_8:0' shape=(100, 1) dtype=float32>, 'total_bedrooms': <tf.Tensor 'ExpandDims_7:0' shape=(100, 1) dtype=float32>, 'population': <tf.Tensor 'ExpandDims_6:0' shape=(100, 1) dtype=float32>, 'households': <tf.Tensor 'ExpandDims:0' shape=(100, 1) dtype=float32>, 'median_income': <tf.Tensor 'ExpandDims_5:0' shape=(100, 1) dtype=float32>, 'median_house_value': <tf.Tensor 'ExpandDims_4:0' shape=(100, 1) dtype=float32>}\n",
      "Consider rewriting this model with the Functional API.\n",
      "30/30 [==============================] - 0s 1ms/step - loss: 0.0333 - accuracy: 1.0000\n"
     ]
    },
    {
     "data": {
      "text/plain": [
       "[0.03333272412419319, 1.0]"
      ]
     },
     "execution_count": 44,
     "metadata": {},
     "output_type": "execute_result"
    }
   ],
   "source": [
    "features = {name:np.array(value) for name, value in test_df_norm.items()}\n",
    "label = np.array(features.pop(label_name))\n",
    "\n",
    "my_model.evaluate(x = features, y = label, batch_size=batch_size)"
   ]
  },
  {
   "cell_type": "code",
   "execution_count": 45,
   "id": "1297d51c",
   "metadata": {},
   "outputs": [
    {
     "name": "stdout",
     "output_type": "stream",
     "text": [
      "Epoch 1/20\n",
      "WARNING:tensorflow:Layers in a Sequential model should only have a single input tensor, but we receive a <class 'dict'> input: {'longitude': <tf.Tensor 'ExpandDims_3:0' shape=(100, 1) dtype=float32>, 'latitude': <tf.Tensor 'ExpandDims_2:0' shape=(100, 1) dtype=float32>, 'housing_median_age': <tf.Tensor 'ExpandDims_1:0' shape=(100, 1) dtype=float32>, 'total_rooms': <tf.Tensor 'ExpandDims_8:0' shape=(100, 1) dtype=float32>, 'total_bedrooms': <tf.Tensor 'ExpandDims_7:0' shape=(100, 1) dtype=float32>, 'population': <tf.Tensor 'ExpandDims_6:0' shape=(100, 1) dtype=float32>, 'households': <tf.Tensor 'ExpandDims:0' shape=(100, 1) dtype=float32>, 'median_income': <tf.Tensor 'ExpandDims_5:0' shape=(100, 1) dtype=float32>, 'median_house_value': <tf.Tensor 'ExpandDims_4:0' shape=(100, 1) dtype=float32>}\n",
      "Consider rewriting this model with the Functional API.\n",
      "WARNING:tensorflow:Layers in a Sequential model should only have a single input tensor, but we receive a <class 'dict'> input: {'longitude': <tf.Tensor 'ExpandDims_3:0' shape=(100, 1) dtype=float32>, 'latitude': <tf.Tensor 'ExpandDims_2:0' shape=(100, 1) dtype=float32>, 'housing_median_age': <tf.Tensor 'ExpandDims_1:0' shape=(100, 1) dtype=float32>, 'total_rooms': <tf.Tensor 'ExpandDims_8:0' shape=(100, 1) dtype=float32>, 'total_bedrooms': <tf.Tensor 'ExpandDims_7:0' shape=(100, 1) dtype=float32>, 'population': <tf.Tensor 'ExpandDims_6:0' shape=(100, 1) dtype=float32>, 'households': <tf.Tensor 'ExpandDims:0' shape=(100, 1) dtype=float32>, 'median_income': <tf.Tensor 'ExpandDims_5:0' shape=(100, 1) dtype=float32>, 'median_house_value': <tf.Tensor 'ExpandDims_4:0' shape=(100, 1) dtype=float32>}\n",
      "Consider rewriting this model with the Functional API.\n",
      "170/170 [==============================] - 0s 2ms/step - loss: 0.6580 - accuracy: 0.7791 - precision: 0.0000e+00 - recall: 0.0000e+00\n",
      "Epoch 2/20\n",
      "170/170 [==============================] - 0s 2ms/step - loss: 0.5743 - accuracy: 0.9771 - precision: 0.0000e+00 - recall: 0.0000e+00\n",
      "Epoch 3/20\n",
      "170/170 [==============================] - 0s 2ms/step - loss: 0.5017 - accuracy: 0.9985 - precision: 0.0000e+00 - recall: 0.0000e+00\n",
      "Epoch 4/20\n",
      "170/170 [==============================] - 0s 1ms/step - loss: 0.4378 - accuracy: 1.0000 - precision: 0.0000e+00 - recall: 0.0000e+00A: 0s - loss: 0.4475 - accuracy: 1.0000 - precision: 0.0000e+00 - recall: 0.0000e+\n",
      "Epoch 5/20\n",
      "170/170 [==============================] - 0s 1ms/step - loss: 0.3810 - accuracy: 1.0000 - precision: 0.0000e+00 - recall: 0.0000e+00\n",
      "Epoch 6/20\n",
      "170/170 [==============================] - 0s 2ms/step - loss: 0.3304 - accuracy: 1.0000 - precision: 0.0000e+00 - recall: 0.0000e+00\n",
      "Epoch 7/20\n",
      "170/170 [==============================] - 0s 1ms/step - loss: 0.2857 - accuracy: 1.0000 - precision: 0.0000e+00 - recall: 0.0000e+00\n",
      "Epoch 8/20\n",
      "170/170 [==============================] - 0s 2ms/step - loss: 0.2464 - accuracy: 1.0000 - precision: 0.0000e+00 - recall: 0.0000e+00\n",
      "Epoch 9/20\n",
      "170/170 [==============================] - 0s 1ms/step - loss: 0.2119 - accuracy: 1.0000 - precision: 0.0000e+00 - recall: 0.0000e+00\n",
      "Epoch 10/20\n",
      "170/170 [==============================] - 0s 1ms/step - loss: 0.1818 - accuracy: 1.0000 - precision: 0.0000e+00 - recall: 0.0000e+00\n",
      "Epoch 11/20\n",
      "170/170 [==============================] - 0s 2ms/step - loss: 0.1556 - accuracy: 1.0000 - precision: 0.0000e+00 - recall: 0.0000e+00\n",
      "Epoch 12/20\n",
      "170/170 [==============================] - 0s 1ms/step - loss: 0.1330 - accuracy: 1.0000 - precision: 0.0000e+00 - recall: 0.0000e+00\n",
      "Epoch 13/20\n",
      "170/170 [==============================] - 0s 2ms/step - loss: 0.1135 - accuracy: 1.0000 - precision: 0.0000e+00 - recall: 0.0000e+00\n",
      "Epoch 14/20\n",
      "170/170 [==============================] - 0s 2ms/step - loss: 0.0967 - accuracy: 1.0000 - precision: 0.0000e+00 - recall: 0.0000e+00\n",
      "Epoch 15/20\n",
      "170/170 [==============================] - 0s 2ms/step - loss: 0.0823 - accuracy: 1.0000 - precision: 0.0000e+00 - recall: 0.0000e+00\n",
      "Epoch 16/20\n",
      "170/170 [==============================] - 0s 2ms/step - loss: 0.0700 - accuracy: 1.0000 - precision: 0.0000e+00 - recall: 0.0000e+00\n",
      "Epoch 17/20\n",
      "170/170 [==============================] - 0s 2ms/step - loss: 0.0594 - accuracy: 1.0000 - precision: 0.0000e+00 - recall: 0.0000e+00\n",
      "Epoch 18/20\n",
      "170/170 [==============================] - 0s 2ms/step - loss: 0.0504 - accuracy: 1.0000 - precision: 0.0000e+00 - recall: 0.0000e+00\n",
      "Epoch 19/20\n",
      "170/170 [==============================] - 0s 1ms/step - loss: 0.0428 - accuracy: 1.0000 - precision: 0.0000e+00 - recall: 0.0000e+00\n",
      "Epoch 20/20\n",
      "170/170 [==============================] - 0s 2ms/step - loss: 0.0363 - accuracy: 1.0000 - precision: 0.0000e+00 - recall: 0.0000e+00A: 0s - loss: 0.0373 - accuracy: 1.0000 - precision: 0.0000e+00 - recall: 0.0000e+\n"
     ]
    },
    {
     "data": {
      "image/png": "[encoded data removed]",
      "text/plain": [
       "<Figure size 432x288 with 1 Axes>"
      ]
     },
     "metadata": {
      "needs_background": "light"
     },
     "output_type": "display_data"
    }
   ],
   "source": [
    "# The following variables are the hyperparameters.\n",
    "learning_rate = 0.001\n",
    "epochs = 20\n",
    "batch_size = 100\n",
    "classification_threshold = 0.52\n",
    "label_name = \"median_house_value_is_high\"\n",
    "\n",
    "# Modify the following definition of METRICS to generate\n",
    "# not only accuracy and precision, but also recall:\n",
    "METRICS = [\n",
    "      tf.keras.metrics.BinaryAccuracy(name='accuracy', \n",
    "                                      threshold=classification_threshold),\n",
    "      tf.keras.metrics.Precision(thresholds=classification_threshold,\n",
    "                                 name='precision' \n",
    "                                 ),\n",
    "      tf.keras.metrics.Recall(name='recall',\n",
    "                              thresholds=classification_threshold)\n",
    "]\n",
    "\n",
    "# Establish the model's topography.\n",
    "my_model = create_model(learning_rate, feature_layer, METRICS)\n",
    "\n",
    "# Train the model on the training set.\n",
    "epochs, hist = train_model(my_model, train_df_norm, epochs, \n",
    "                           label_name, batch_size)\n",
    "\n",
    "# Plot metrics vs. epochs\n",
    "list_of_metrics_to_plot = ['accuracy', 'precision', 'recall'] \n",
    "plot_curve(epochs, hist, list_of_metrics_to_plot)"
   ]
  },
  {
   "cell_type": "code",
   "execution_count": 46,
   "id": "2dd8272f",
   "metadata": {},
   "outputs": [
    {
     "name": "stdout",
     "output_type": "stream",
     "text": [
      "Epoch 1/20\n",
      "WARNING:tensorflow:Layers in a Sequential model should only have a single input tensor, but we receive a <class 'dict'> input: {'longitude': <tf.Tensor 'ExpandDims_3:0' shape=(100, 1) dtype=float32>, 'latitude': <tf.Tensor 'ExpandDims_2:0' shape=(100, 1) dtype=float32>, 'housing_median_age': <tf.Tensor 'ExpandDims_1:0' shape=(100, 1) dtype=float32>, 'total_rooms': <tf.Tensor 'ExpandDims_8:0' shape=(100, 1) dtype=float32>, 'total_bedrooms': <tf.Tensor 'ExpandDims_7:0' shape=(100, 1) dtype=float32>, 'population': <tf.Tensor 'ExpandDims_6:0' shape=(100, 1) dtype=float32>, 'households': <tf.Tensor 'ExpandDims:0' shape=(100, 1) dtype=float32>, 'median_income': <tf.Tensor 'ExpandDims_5:0' shape=(100, 1) dtype=float32>, 'median_house_value': <tf.Tensor 'ExpandDims_4:0' shape=(100, 1) dtype=float32>}\n",
      "Consider rewriting this model with the Functional API.\n",
      "WARNING:tensorflow:Layers in a Sequential model should only have a single input tensor, but we receive a <class 'dict'> input: {'longitude': <tf.Tensor 'ExpandDims_3:0' shape=(100, 1) dtype=float32>, 'latitude': <tf.Tensor 'ExpandDims_2:0' shape=(100, 1) dtype=float32>, 'housing_median_age': <tf.Tensor 'ExpandDims_1:0' shape=(100, 1) dtype=float32>, 'total_rooms': <tf.Tensor 'ExpandDims_8:0' shape=(100, 1) dtype=float32>, 'total_bedrooms': <tf.Tensor 'ExpandDims_7:0' shape=(100, 1) dtype=float32>, 'population': <tf.Tensor 'ExpandDims_6:0' shape=(100, 1) dtype=float32>, 'households': <tf.Tensor 'ExpandDims:0' shape=(100, 1) dtype=float32>, 'median_income': <tf.Tensor 'ExpandDims_5:0' shape=(100, 1) dtype=float32>, 'median_house_value': <tf.Tensor 'ExpandDims_4:0' shape=(100, 1) dtype=float32>}\n",
      "Consider rewriting this model with the Functional API.\n",
      "170/170 [==============================] - 0s 2ms/step - loss: 0.8520 - auc: 0.0000e+00\n",
      "Epoch 2/20\n",
      "170/170 [==============================] - ETA: 0s - loss: 0.7264 - auc: 0.0000e+0 - 0s 2ms/step - loss: 0.7161 - auc: 0.0000e+00\n",
      "Epoch 3/20\n",
      "170/170 [==============================] - 0s 2ms/step - loss: 0.5960 - auc: 0.0000e+00\n",
      "Epoch 4/20\n",
      "170/170 [==============================] - 0s 1ms/step - loss: 0.4934 - auc: 0.0000e+00\n",
      "Epoch 5/20\n",
      "170/170 [==============================] - 0s 2ms/step - loss: 0.4091 - auc: 0.0000e+00A: 0s - loss: 0.4263 - auc: 0.0000e\n",
      "Epoch 6/20\n",
      "170/170 [==============================] - 0s 2ms/step - loss: 0.3421 - auc: 0.0000e+00A: 0s - loss: 0.3552 - auc: 0.0000e\n",
      "Epoch 7/20\n",
      "170/170 [==============================] - 0s 2ms/step - loss: 0.2895 - auc: 0.0000e+00\n",
      "Epoch 8/20\n",
      "170/170 [==============================] - 0s 2ms/step - loss: 0.2473 - auc: 0.0000e+00\n",
      "Epoch 9/20\n",
      "170/170 [==============================] - 0s 2ms/step - loss: 0.2122 - auc: 0.0000e+00\n",
      "Epoch 10/20\n",
      "170/170 [==============================] - 0s 2ms/step - loss: 0.1820 - auc: 0.0000e+00\n",
      "Epoch 11/20\n",
      "170/170 [==============================] - 0s 2ms/step - loss: 0.1558 - auc: 0.0000e+00\n",
      "Epoch 12/20\n",
      "170/170 [==============================] - 0s 2ms/step - loss: 0.1332 - auc: 0.0000e+00\n",
      "Epoch 13/20\n",
      "170/170 [==============================] - ETA: 0s - loss: 0.1144 - auc: 0.0000e+0 - 0s 2ms/step - loss: 0.1136 - auc: 0.0000e+00\n",
      "Epoch 14/20\n",
      "170/170 [==============================] - 0s 2ms/step - loss: 0.0968 - auc: 0.0000e+00\n",
      "Epoch 15/20\n",
      "170/170 [==============================] - 0s 2ms/step - loss: 0.0824 - auc: 0.0000e+00\n",
      "Epoch 16/20\n",
      "170/170 [==============================] - 0s 2ms/step - loss: 0.0701 - auc: 0.0000e+00\n",
      "Epoch 17/20\n",
      "170/170 [==============================] - 0s 2ms/step - loss: 0.0595 - auc: 0.0000e+00\n",
      "Epoch 18/20\n",
      "170/170 [==============================] - 0s 2ms/step - loss: 0.0505 - auc: 0.0000e+00\n",
      "Epoch 19/20\n",
      "170/170 [==============================] - 0s 2ms/step - loss: 0.0428 - auc: 0.0000e+00\n",
      "Epoch 20/20\n",
      "170/170 [==============================] - 0s 2ms/step - loss: 0.0363 - auc: 0.0000e+00\n"
     ]
    },
    {
     "data": {
      "image/png": "[encoded data removed]",
      "text/plain": [
       "<Figure size 432x288 with 1 Axes>"
      ]
     },
     "metadata": {
      "needs_background": "light"
     },
     "output_type": "display_data"
    }
   ],
   "source": [
    "#@title Double-click to view the solution for Task 5.\n",
    "\n",
    "# The following variables are the hyperparameters.\n",
    "learning_rate = 0.001\n",
    "epochs = 20\n",
    "batch_size = 100\n",
    "label_name = \"median_house_value_is_high\"\n",
    "\n",
    "# AUC is a reasonable \"summary\" metric for \n",
    "# classification models.\n",
    "# Here is the updated definition of METRICS to \n",
    "# measure AUC:\n",
    "METRICS = [\n",
    "      tf.keras.metrics.AUC(num_thresholds=100, name='auc'),\n",
    "]\n",
    "\n",
    "# Establish the model's topography.\n",
    "my_model = create_model(learning_rate, feature_layer, METRICS)\n",
    "\n",
    "# Train the model on the training set.\n",
    "epochs, hist = train_model(my_model, train_df_norm, epochs, \n",
    "                           label_name, batch_size)\n",
    "\n",
    "# Plot metrics vs. epochs\n",
    "list_of_metrics_to_plot = ['auc'] \n",
    "plot_curve(epochs, hist, list_of_metrics_to_plot)"
   ]
  },
  {
   "cell_type": "code",
   "execution_count": null,
   "id": "0e62afd2",
   "metadata": {},
   "outputs": [],
   "source": []
  }
 ],
 "metadata": {
  "kernelspec": {
   "display_name": "Python 3",
   "language": "python",
   "name": "python3"
  },
  "language_info": {
   "codemirror_mode": {
    "name": "ipython",
    "version": 3
   },
   "file_extension": ".py",
   "mimetype": "text/x-python",
   "name": "python",
   "nbconvert_exporter": "python",
   "pygments_lexer": "ipython3",
   "version": "3.8.8"
  }
 },
 "nbformat": 4,
 "nbformat_minor": 5
}
