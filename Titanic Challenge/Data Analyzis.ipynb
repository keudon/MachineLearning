{
 "cells": [
  {
   "cell_type": "code",
   "execution_count": null,
   "metadata": {},
   "outputs": [],
   "source": [
    "import pandas as pd\n",
    "import numpy as np\n",
    "import seaborn as sns\n",
    "from matplotlib import pyplot as plt"
   ]
  },
  {
   "cell_type": "code",
   "execution_count": null,
   "metadata": {},
   "outputs": [],
   "source": [
    "original_test_df = pd.read_csv('./Data/test.csv')\n",
    "original_train_df = pd.read_csv('./Data/train.csv')"
   ]
  },
  {
   "cell_type": "code",
   "execution_count": null,
   "metadata": {},
   "outputs": [],
   "source": [
    "titanic_data = pd.concat([original_test_df,original_train_df])"
   ]
  },
  {
   "cell_type": "code",
   "execution_count": null,
   "metadata": {},
   "outputs": [],
   "source": [
    "titanic_data.isna().sum()"
   ]
  },
  {
   "cell_type": "markdown",
   "metadata": {},
   "source": [
    "1. Importance to fill the missing Age values.\n",
    "Simplest solution : fillna with median or mean values\n",
    "More elaborated : compute the mean with the help of the most correlated features (Parch and SibSp). To find these, it's very important to have powerfull tools for data statistical analysis.\n",
    "\n",
    "2. \n",
    "\n"
   ]
  },
  {
   "cell_type": "code",
   "execution_count": null,
   "metadata": {},
   "outputs": [],
   "source": [
    "titanic_data.info()"
   ]
  },
  {
   "cell_type": "markdown",
   "metadata": {},
   "source": [
    "About:\n",
    "\n",
    "1000 missing values in Cabin\n",
    "\n",
    "300  missing values in Age\n",
    "\n",
    "2    missing values in Embarked\n",
    "\n",
    "1    missing value  in Fare"
   ]
  },
  {
   "cell_type": "code",
   "execution_count": null,
   "metadata": {},
   "outputs": [],
   "source": [
    "feature_list = ['Pclass', 'Sex','Embarked','SibSp', 'Parch','Survived']\n",
    "\n",
    "plt.figure(figsize=(16, 14))\n",
    "\n",
    "for index,feature in enumerate(feature_list):\n",
    "    plt.subplot(3, 3, index+1)\n",
    "    sns.countplot(data=titanic_data, x=feature, hue='Survived')"
   ]
  },
  {
   "cell_type": "code",
   "execution_count": null,
   "metadata": {},
   "outputs": [],
   "source": [
    "titanic_data['Age'].plot(kind='hist',bins=20)"
   ]
  },
  {
   "cell_type": "markdown",
   "metadata": {},
   "source": [
    "For now, we won't use Stratified Sampling. Perhaps later in order to increase the score.\n",
    "Same for data splitting into a training and testing set ()"
   ]
  },
  {
   "cell_type": "code",
   "execution_count": null,
   "metadata": {},
   "outputs": [],
   "source": [
    "# Heatmap works only with numerical values: need to map\n",
    "titanic_data.Sex = titanic_data.Sex.map({'female':0,'male':1})\n",
    "titanic_data.Embarked = titanic_data.Embarked.map({'S':0,'C':1,'Q':2})\n",
    "titanic_data[\"Feature_Ticket_Number\"] = [int(titanic_data.iloc[i][\"Ticket\"].split()[-1]) if titanic_data.iloc[i][\"Ticket\"].split()[-1] != 'LINE' else 0 for i in range(len(titanic_data)) ]\n"
   ]
  },
  {
   "cell_type": "code",
   "execution_count": null,
   "metadata": {},
   "outputs": [],
   "source": [
    "sns.heatmap(titanic_data.corr(),cmap='twilight_shifted',center=0)\n",
    "plt.figure(figsize=(15, 15))"
   ]
  },
  {
   "cell_type": "markdown",
   "metadata": {},
   "source": [
    "This shows the correlation between the features and the 'Survived' label : \n",
    "\n",
    "Sex, Pclass and Fare are the 3 main contributors (in this order) to predict Survival\n",
    "\n",
    "We also see that Pclass and Fare are highly correlated so perhaps only Sex and Pclass are sufficient to make a good prediction ?"
   ]
  },
  {
   "cell_type": "code",
   "execution_count": null,
   "metadata": {},
   "outputs": [],
   "source": [
    "titanic_data"
   ]
  },
  {
   "cell_type": "code",
   "execution_count": null,
   "metadata": {},
   "outputs": [],
   "source": [
    "titanic_data['Fare'].mean"
   ]
  },
  {
   "cell_type": "code",
   "execution_count": null,
   "metadata": {},
   "outputs": [],
   "source": []
  }
 ],
 "metadata": {
  "interpreter": {
   "hash": "b75892e2997f69e260de6c987cf776e9bf3ebcead4b5119ca71dc1ea127262a4"
  },
  "kernelspec": {
   "display_name": "Python 3.8.8 64-bit ('google_ml': conda)",
   "name": "python3"
  },
  "language_info": {
   "codemirror_mode": {
    "name": "ipython",
    "version": 3
   },
   "file_extension": ".py",
   "mimetype": "text/x-python",
   "name": "python",
   "nbconvert_exporter": "python",
   "pygments_lexer": "ipython3",
   "version": "3.8.8"
  },
  "orig_nbformat": 4
 },
 "nbformat": 4,
 "nbformat_minor": 2
}
