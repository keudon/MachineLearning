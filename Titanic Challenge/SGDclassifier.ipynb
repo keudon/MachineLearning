{
 "cells": [
  {
   "cell_type": "code",
   "execution_count": null,
   "metadata": {},
   "outputs": [],
   "source": [
    "from sklearn.linear_model import SGDClassifier\n",
    "from sklearn.ensemble import RandomForestClassifier\n",
    "from sklearn.tree import DecisionTreeClassifier\n",
    "from sklearn.metrics import precision_score, recall_score, precision_recall_curve, roc_curve, roc_auc_score\n",
    "from sklearn.model_selection import cross_val_predict, GridSearchCV\n",
    "from sklearn.preprocessing import StandardScaler\n",
    "\n",
    "import pandas as pd\n",
    "import prepare_data\n",
    "from matplotlib import pyplot as plt\n",
    "import numpy as np\n",
    "import submit_csv"
   ]
  },
  {
   "cell_type": "code",
   "execution_count": null,
   "metadata": {},
   "outputs": [],
   "source": [
    "train_df = prepare_data.titanic_data_shaping('./Data/train.csv')"
   ]
  },
  {
   "cell_type": "code",
   "execution_count": null,
   "metadata": {},
   "outputs": [],
   "source": [
    "features = ['Sex','Pclass','SibSp','Parch','Feature_Age','Feature_Title','Feature_Ticket_Number','Fare']"
   ]
  },
  {
   "cell_type": "code",
   "execution_count": null,
   "metadata": {},
   "outputs": [],
   "source": [
    "fig1, ax_roc_curve = plt.subplots()\n",
    "\n",
    "def train_model(current_model,df,features,label):\n",
    "    X_train = df[features].to_numpy()\n",
    "    X_train = StandardScaler().fit_transform(X_train)\n",
    "    y_train = train_df[[label]].to_numpy().ravel()\n",
    "    current_model.fit(X_train,y_train)\n",
    "\n",
    "    return current_model, X_train, y_train\n",
    "\n",
    "def evaluate_model(current_model,X_train,y_train):\n",
    "    \n",
    "    cv_method = None\n",
    "    if type(current_model) == SGDClassifier:\n",
    "        model_name = 'SGDClassifier'\n",
    "        cv_method = 'decision_function'\n",
    "    if type(current_model) == RandomForestClassifier:\n",
    "        model_name = 'RandomForestClassifier'\n",
    "        cv_method = 'predict_proba'\n",
    "\n",
    "    y_train_scores = cross_val_predict(current_model,X_train,y_train,cv=5,method=cv_method)\n",
    "    y_train_pred = cross_val_predict(current_model,X_train,y_train,cv=3)\n",
    "\n",
    "    if type(current_model) == RandomForestClassifier:\n",
    "        y_train_scores = y_train_scores[:,1]\n",
    "        \n",
    "    precisions, recalls, thresholds = precision_recall_curve(y_train,y_train_scores)\n",
    "\n",
    "    fig1, ax_precision_vs_recall = plt.subplots()\n",
    "    ax_precision_vs_recall.plot(thresholds,precisions[:-1],'-',label='Precision')\n",
    "    ax_precision_vs_recall.plot(thresholds,recalls[:-1],'--',label='Recall')\n",
    "    ax_precision_vs_recall.legend()\n",
    "    ax_precision_vs_recall.grid()\n",
    "    ax_precision_vs_recall.set_title(model_name)\n",
    "\n",
    "    fpr, tpr, thresholds = roc_curve(y_train,y_train_scores)\n",
    "    ax_roc_curve.plot(fpr,tpr,label=model_name)\n",
    "    ax_roc_curve.plot([0,1],[0,1],'k--')\n",
    "    ax_roc_curve.legend()\n",
    "\n",
    "\n",
    "    print('{} : roc_auc_score = {}'.format(model_name,roc_auc_score(y_train,y_train_scores)))\n",
    "\n",
    "    return ax_recall_vs_precision, ax_roc_curve\n",
    "\n",
    "# y_train_scores = cross_val_predict(randomforest_model,X_train,y_train,cv=3,method=)\n",
    "# fpr_forest , tpr_forest, thresholds_forest = roc_curve(y_train,y_train_scores[:,1])\n",
    "\n",
    "sgd_model, X_train, y_train = train_model(SGDClassifier(random_state=42),train_df,features,'Survived')\n",
    "rdnforest_model, X_train, y_train = train_model(RandomForestClassifier(random_state=42,max_features=4),train_df,features,'Survived')\n",
    "\n",
    "evaluate_model(sgd_model,X_train,y_train)\n",
    "evaluate_model(rdnforest_model,X_train,y_train)\n",
    "\n"
   ]
  },
  {
   "cell_type": "code",
   "execution_count": null,
   "metadata": {},
   "outputs": [],
   "source": [
    "param_grid = [\n",
    "    {'n_estimators':[75, 100, 125], 'max_features':[3, 4, 5]},\n",
    "] \n",
    "\n",
    "grid_search = GridSearchCV(RandomForestClassifier(), param_grid, cv=4, scoring='roc_auc',return_train_score=True)\n",
    "\n",
    "grid_search.fit(X_train,y_train)\n",
    "\n",
    "grid_search.best_params_"
   ]
  },
  {
   "cell_type": "code",
   "execution_count": null,
   "metadata": {},
   "outputs": [],
   "source": []
  },
  {
   "cell_type": "code",
   "execution_count": null,
   "metadata": {},
   "outputs": [],
   "source": [
    "test_df = prepare_data.titanic_data_shaping('./Data/test.csv')\n",
    "X_topredict = test_df[features].to_numpy()\n",
    "qzdjbkl = StandardScaler().fit_transform(X=X_topredict)"
   ]
  },
  {
   "cell_type": "code",
   "execution_count": null,
   "metadata": {},
   "outputs": [],
   "source": [
    "submit_csv.from_classifier(test_df,features,randomforest_model)"
   ]
  },
  {
   "cell_type": "code",
   "execution_count": null,
   "metadata": {},
   "outputs": [],
   "source": [
    "example_csv = pd.read_csv('./Data/gender_submission.csv')\n",
    "prediction_csv = pd.read_csv('./deeplearning_submission.csv')\n",
    "example_csv.Survived.value_counts(), prediction_csv.Survived.value_counts()"
   ]
  }
 ],
 "metadata": {
  "interpreter": {
   "hash": "b75892e2997f69e260de6c987cf776e9bf3ebcead4b5119ca71dc1ea127262a4"
  },
  "kernelspec": {
   "display_name": "Python 3.8.8 64-bit ('google_ml': conda)",
   "name": "python3"
  },
  "language_info": {
   "codemirror_mode": {
    "name": "ipython",
    "version": 3
   },
   "file_extension": ".py",
   "mimetype": "text/x-python",
   "name": "python",
   "nbconvert_exporter": "python",
   "pygments_lexer": "ipython3",
   "version": "3.8.8"
  },
  "orig_nbformat": 4
 },
 "nbformat": 4,
 "nbformat_minor": 2
}
